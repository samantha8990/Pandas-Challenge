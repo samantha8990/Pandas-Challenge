{
 "metadata": {
  "language_info": {
   "codemirror_mode": {
    "name": "ipython",
    "version": 3
   },
   "file_extension": ".py",
   "mimetype": "text/x-python",
   "name": "python",
   "nbconvert_exporter": "python",
   "pygments_lexer": "ipython3",
   "version": "3.7.9"
  },
  "orig_nbformat": 2,
  "kernelspec": {
   "name": "python379jvsc74a57bd0c9b8f97cee7e20f63a0d8ed352f09a44de6637e294d79ea54455f889e62dfa06",
   "display_name": "Python 3.7.9 64-bit ('PythonData': conda)"
  }
 },
 "nbformat": 4,
 "nbformat_minor": 2,
 "cells": [
  {
   "cell_type": "code",
   "execution_count": 4,
   "metadata": {},
   "outputs": [],
   "source": [
    "import pandas as pd "
   ]
  },
  {
   "cell_type": "code",
   "execution_count": 5,
   "metadata": {},
   "outputs": [
    {
     "output_type": "execute_result",
     "data": {
      "text/plain": [
       "   Purchase ID             SN  Age Gender  Item ID  \\\n",
       "0            0        Lisim78   20   Male      108   \n",
       "1            1    Lisovynya38   40   Male      143   \n",
       "2            2     Ithergue48   24   Male       92   \n",
       "3            3  Chamassasya86   24   Male      100   \n",
       "4            4      Iskosia90   23   Male      131   \n",
       "\n",
       "                                   Item Name  Price  \n",
       "0  Extraction, Quickblade Of Trembling Hands   3.53  \n",
       "1                          Frenzied Scimitar   1.56  \n",
       "2                               Final Critic   4.88  \n",
       "3                                Blindscythe   3.27  \n",
       "4                                       Fury   1.44  "
      ],
      "text/html": "<div>\n<style scoped>\n    .dataframe tbody tr th:only-of-type {\n        vertical-align: middle;\n    }\n\n    .dataframe tbody tr th {\n        vertical-align: top;\n    }\n\n    .dataframe thead th {\n        text-align: right;\n    }\n</style>\n<table border=\"1\" class=\"dataframe\">\n  <thead>\n    <tr style=\"text-align: right;\">\n      <th></th>\n      <th>Purchase ID</th>\n      <th>SN</th>\n      <th>Age</th>\n      <th>Gender</th>\n      <th>Item ID</th>\n      <th>Item Name</th>\n      <th>Price</th>\n    </tr>\n  </thead>\n  <tbody>\n    <tr>\n      <th>0</th>\n      <td>0</td>\n      <td>Lisim78</td>\n      <td>20</td>\n      <td>Male</td>\n      <td>108</td>\n      <td>Extraction, Quickblade Of Trembling Hands</td>\n      <td>3.53</td>\n    </tr>\n    <tr>\n      <th>1</th>\n      <td>1</td>\n      <td>Lisovynya38</td>\n      <td>40</td>\n      <td>Male</td>\n      <td>143</td>\n      <td>Frenzied Scimitar</td>\n      <td>1.56</td>\n    </tr>\n    <tr>\n      <th>2</th>\n      <td>2</td>\n      <td>Ithergue48</td>\n      <td>24</td>\n      <td>Male</td>\n      <td>92</td>\n      <td>Final Critic</td>\n      <td>4.88</td>\n    </tr>\n    <tr>\n      <th>3</th>\n      <td>3</td>\n      <td>Chamassasya86</td>\n      <td>24</td>\n      <td>Male</td>\n      <td>100</td>\n      <td>Blindscythe</td>\n      <td>3.27</td>\n    </tr>\n    <tr>\n      <th>4</th>\n      <td>4</td>\n      <td>Iskosia90</td>\n      <td>23</td>\n      <td>Male</td>\n      <td>131</td>\n      <td>Fury</td>\n      <td>1.44</td>\n    </tr>\n  </tbody>\n</table>\n</div>"
     },
     "metadata": {},
     "execution_count": 5
    }
   ],
   "source": [
    "csv_path=r'Assignments_04-Pandas_HeroesOfPymoli_Resources_purchase_data.csv'\n",
    "heroes_df=pd.read_csv(csv_path)\n",
    "heroes_df.head()"
   ]
  },
  {
   "cell_type": "code",
   "execution_count": 6,
   "metadata": {},
   "outputs": [
    {
     "output_type": "execute_result",
     "data": {
      "text/plain": [
       "   Total Players\n",
       "0            576"
      ],
      "text/html": "<div>\n<style scoped>\n    .dataframe tbody tr th:only-of-type {\n        vertical-align: middle;\n    }\n\n    .dataframe tbody tr th {\n        vertical-align: top;\n    }\n\n    .dataframe thead th {\n        text-align: right;\n    }\n</style>\n<table border=\"1\" class=\"dataframe\">\n  <thead>\n    <tr style=\"text-align: right;\">\n      <th></th>\n      <th>Total Players</th>\n    </tr>\n  </thead>\n  <tbody>\n    <tr>\n      <th>0</th>\n      <td>576</td>\n    </tr>\n  </tbody>\n</table>\n</div>"
     },
     "metadata": {},
     "execution_count": 6
    }
   ],
   "source": [
    "#get total number of players\n",
    "player_count = heroes_df[\"SN\"].nunique()\n",
    "player_count_df = pd.DataFrame({\"Total Players\":[player_count]})\n",
    "player_count_df"
   ]
  },
  {
   "cell_type": "code",
   "execution_count": 7,
   "metadata": {},
   "outputs": [
    {
     "output_type": "execute_result",
     "data": {
      "text/plain": [
       "   Number of Unique Items Average Price  Number Of Purchases Total Revenue\n",
       "0                     179         $3.05                  780     $2,379.77"
      ],
      "text/html": "<div>\n<style scoped>\n    .dataframe tbody tr th:only-of-type {\n        vertical-align: middle;\n    }\n\n    .dataframe tbody tr th {\n        vertical-align: top;\n    }\n\n    .dataframe thead th {\n        text-align: right;\n    }\n</style>\n<table border=\"1\" class=\"dataframe\">\n  <thead>\n    <tr style=\"text-align: right;\">\n      <th></th>\n      <th>Number of Unique Items</th>\n      <th>Average Price</th>\n      <th>Number Of Purchases</th>\n      <th>Total Revenue</th>\n    </tr>\n  </thead>\n  <tbody>\n    <tr>\n      <th>0</th>\n      <td>179</td>\n      <td>$3.05</td>\n      <td>780</td>\n      <td>$2,379.77</td>\n    </tr>\n  </tbody>\n</table>\n</div>"
     },
     "metadata": {},
     "execution_count": 7
    }
   ],
   "source": [
    "#Obtain number of unique items, average price, etc\n",
    "unique_items = heroes_df[\"Item ID\"].nunique()\n",
    "average_price = heroes_df[\"Price\"].mean()\n",
    "purchases = heroes_df[\"Purchase ID\"].count()\n",
    "revenue = heroes_df[\"Price\"].sum()\n",
    "\n",
    "#create new data frame\n",
    "summary_df = pd.DataFrame({\"Number of Unique Items\":[unique_items], \"Average Price\":[average_price], \"Number Of Purchases\":[purchases], \"Total Revenue\":[revenue]})\n",
    "\n",
    "\n",
    "#format\n",
    "summary_df[\"Average Price\"]=summary_df[\"Average Price\"].map(\"${:.2f}\".format)\n",
    "summary_df[\"Total Revenue\"]=summary_df[\"Total Revenue\"].map(\"${:,.2f}\".format)\n",
    "summary_df\n"
   ]
  },
  {
   "cell_type": "code",
   "execution_count": 8,
   "metadata": {},
   "outputs": [
    {
     "output_type": "execute_result",
     "data": {
      "text/plain": [
       "                       Total Count Percentage of Players\n",
       "Gender                                                  \n",
       "Female                          81                14.06%\n",
       "Male                           484                84.03%\n",
       "Other / Non-Disclosed           11                 1.91%"
      ],
      "text/html": "<div>\n<style scoped>\n    .dataframe tbody tr th:only-of-type {\n        vertical-align: middle;\n    }\n\n    .dataframe tbody tr th {\n        vertical-align: top;\n    }\n\n    .dataframe thead th {\n        text-align: right;\n    }\n</style>\n<table border=\"1\" class=\"dataframe\">\n  <thead>\n    <tr style=\"text-align: right;\">\n      <th></th>\n      <th>Total Count</th>\n      <th>Percentage of Players</th>\n    </tr>\n    <tr>\n      <th>Gender</th>\n      <th></th>\n      <th></th>\n    </tr>\n  </thead>\n  <tbody>\n    <tr>\n      <th>Female</th>\n      <td>81</td>\n      <td>14.06%</td>\n    </tr>\n    <tr>\n      <th>Male</th>\n      <td>484</td>\n      <td>84.03%</td>\n    </tr>\n    <tr>\n      <th>Other / Non-Disclosed</th>\n      <td>11</td>\n      <td>1.91%</td>\n    </tr>\n  </tbody>\n</table>\n</div>"
     },
     "metadata": {},
     "execution_count": 8
    }
   ],
   "source": [
    "#Gender Demographics\n",
    "gender=heroes_df.groupby([\"Gender\"])[\"SN\"].nunique()\n",
    "percentage_players=(gender/player_count)*100\n",
    "\n",
    "#create new dataframe\n",
    "\n",
    "gender_summary_df=pd.DataFrame({\"Total Count\": gender, \"Percentage of Players\": percentage_players})\n",
    "\n",
    "#format\n",
    "gender_summary_df[\"Percentage of Players\"]=gender_summary_df[\"Percentage of Players\"].map('{:.2f}%'.format)\n",
    "gender_summary_df"
   ]
  },
  {
   "cell_type": "code",
   "execution_count": 19,
   "metadata": {},
   "outputs": [
    {
     "output_type": "execute_result",
     "data": {
      "text/plain": [
       "                       Purchase Count Average Purchase Price  \\\n",
       "Gender                                                         \n",
       "Female                            113                  $3.20   \n",
       "Male                              652                  $3.02   \n",
       "Other / Non-Disclosed              15                  $3.35   \n",
       "\n",
       "                      Total Purchase Value Avg Total Purchase Per Person  \n",
       "Gender                                                                    \n",
       "Female                             $361.94                         $4.47  \n",
       "Male                             $1,967.64                         $4.07  \n",
       "Other / Non-Disclosed               $50.19                         $4.56  "
      ],
      "text/html": "<div>\n<style scoped>\n    .dataframe tbody tr th:only-of-type {\n        vertical-align: middle;\n    }\n\n    .dataframe tbody tr th {\n        vertical-align: top;\n    }\n\n    .dataframe thead th {\n        text-align: right;\n    }\n</style>\n<table border=\"1\" class=\"dataframe\">\n  <thead>\n    <tr style=\"text-align: right;\">\n      <th></th>\n      <th>Purchase Count</th>\n      <th>Average Purchase Price</th>\n      <th>Total Purchase Value</th>\n      <th>Avg Total Purchase Per Person</th>\n    </tr>\n    <tr>\n      <th>Gender</th>\n      <th></th>\n      <th></th>\n      <th></th>\n      <th></th>\n    </tr>\n  </thead>\n  <tbody>\n    <tr>\n      <th>Female</th>\n      <td>113</td>\n      <td>$3.20</td>\n      <td>$361.94</td>\n      <td>$4.47</td>\n    </tr>\n    <tr>\n      <th>Male</th>\n      <td>652</td>\n      <td>$3.02</td>\n      <td>$1,967.64</td>\n      <td>$4.07</td>\n    </tr>\n    <tr>\n      <th>Other / Non-Disclosed</th>\n      <td>15</td>\n      <td>$3.35</td>\n      <td>$50.19</td>\n      <td>$4.56</td>\n    </tr>\n  </tbody>\n</table>\n</div>"
     },
     "metadata": {},
     "execution_count": 19
    }
   ],
   "source": [
    "#Purchasing Analysis (Gender)\n",
    "gender_purchase_count =heroes_df.groupby([\"Gender\"])[\"Purchase ID\"].count()\n",
    "gender_purchase_average=heroes_df.groupby([\"Gender\"])[\"Price\"].mean()\n",
    "gender_purchase_value=heroes_df.groupby([\"Gender\"])[\"Price\"].sum()\n",
    "gender_purchase_avgtotal=gender_purchase_value/gender\n",
    "\n",
    "#Display the summary data frame\n",
    "purchasing_analysis_df=pd.DataFrame({\"Purchase Count\": gender_purchase_count, \"Average Purchase Price\":gender_purchase_average, \"Total Purchase Value\":gender_purchase_value, \"Avg Total Purchase Per Person\": gender_purchase_avgtotal})\n",
    "\n",
    "\n",
    "#format\n",
    "purchasing_analysis_df[\"Average Purchase Price\"]=purchasing_analysis_df[\"Average Purchase Price\"].map(\"${:.2f}\".format)\n",
    "purchasing_analysis_df[\"Total Purchase Value\"]=purchasing_analysis_df[\"Total Purchase Value\"].map(\"${:,.2f}\".format)\n",
    "purchasing_analysis_df[\"Avg Total Purchase Per Person\"]=purchasing_analysis_df[\"Avg Total Purchase Per Person\"].map(\"${:.2f}\".format)\n",
    "purchasing_analysis_df"
   ]
  },
  {
   "cell_type": "code",
   "execution_count": null,
   "metadata": {},
   "outputs": [],
   "source": []
  }
 ]
}